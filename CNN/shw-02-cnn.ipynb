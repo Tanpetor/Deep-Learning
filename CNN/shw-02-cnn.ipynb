{
 "cells": [
  {
   "cell_type": "markdown",
   "metadata": {
    "id": "w35Q6hOIy4sk",
    "pycharm": {
     "name": "#%% md\n"
    }
   },
   "source": [
    "# Глубинное обучение 1 / Введение в глубинное обучение, ФКН ВШЭ\n",
    "\n",
    "## Домашнее задание 2: сверточный классификатор.\n",
    "\n",
    "### Общая информация\n",
    "\n",
    "Оценка после штрафа после мягкого дедлайна вычисляется по формуле $M_{\\text{penalty}} = M_{\\text{full}} \\cdot 0.85^{t/1440}$, где $M_{\\text{full}}$ — полная оценка за работу без учета штрафа, а $t$ — время в минутах, прошедшее после мягкого дедлайна (округление до двух цифр после запятой). Таким образом, спустя первые сутки после мягкого дедлайна вы не можете получить оценку выше 8.5, а если сдать через четыре дня после мягкого дедлайна, то ваш максимум — 5.22 балла.\n",
    "\n",
    "### Оценивание и штрафы\n",
    "\n",
    "Максимально допустимая оценка за работу — 10 баллов. Сдавать задание после указанного срока сдачи нельзя.\n",
    "\n",
    "Задание выполняется самостоятельно. «Похожие» решения считаются плагиатом и все задействованные студенты (в том числе те, у кого списали) не могут получить за него больше 0 баллов. Если вы нашли решение какого-то из заданий (или его часть) в открытом источнике, необходимо указать ссылку на этот источник в отдельном блоке в конце вашей работы (скорее всего вы будете не единственным, кто это нашел, поэтому чтобы исключить подозрение в плагиате, необходима ссылка на источник).\n",
    "\n",
    "Неэффективная реализация кода может негативно отразиться на оценке. Также оценка может быть снижена за плохо читаемый код и плохо оформленные графики. Все ответы должны сопровождаться кодом или комментариями о том, как они были получены.\n",
    "\n",
    "### О задании\n",
    "\n",
    "В этом задании вам предстоит познакомиться со сверточными сетями и их обучением для классификации изображений с использованием библиотеки PyTorch.\n"
   ]
  },
  {
   "cell_type": "code",
   "execution_count": 2,
   "metadata": {
    "id": "SaACifdX2QOo",
    "pycharm": {
     "name": "#%%\n"
    }
   },
   "outputs": [],
   "source": [
    "import torch\n",
    "import torch.nn as nn\n",
    "import torch.nn.functional as F\n",
    "import torch.optim as optim\n",
    "import torchvision\n",
    "import torchvision.transforms as transforms\n",
    "\n",
    "import matplotlib.pyplot as plt\n",
    "import numpy as np\n",
    "\n",
    "from sklearn.model_selection import train_test_split"
   ]
  },
  {
   "cell_type": "markdown",
   "metadata": {
    "id": "TIXaUYM-0JFl",
    "pycharm": {
     "name": "#%% md\n"
    }
   },
   "source": [
    "## 0. Загрузка данных\n",
    "\n",
    "Работать мы будем с набором данных [CIFAR10](https://www.cs.toronto.edu/~kriz/cifar.html). CIFAR10 представляет собой набор изображений 32х32 пикселя, разделенных на 10 классов.\n",
    "\n",
    "![title](https://pytorch.org/tutorials/_images/cifar10.png)\n",
    "\n",
    "\n"
   ]
  },
  {
   "cell_type": "markdown",
   "metadata": {
    "id": "g-0EEjl_10vB",
    "pycharm": {
     "name": "#%% md\n"
    }
   },
   "source": [
    "Набор данных уже определен в <code>torchvision.datasets</code>, так что возьмем его оттуда. \n",
    "\n"
   ]
  },
  {
   "cell_type": "code",
   "execution_count": 6,
   "metadata": {
    "id": "Cbwe92dT3aPZ",
    "pycharm": {
     "name": "#%%\n"
    }
   },
   "outputs": [],
   "source": [
    "def get_cifar10_data(batch_size, transform_train):\n",
    "    torch.manual_seed(0)\n",
    "    np.random.seed(0)\n",
    "\n",
    "    transform_test = transforms.Compose(\n",
    "        [transforms.ToTensor(),\n",
    "         # Переводим цвета пикселей в отрезок [-1, 1]\n",
    "         transforms.Normalize((0.5, 0.5, 0.5), (0.5, 0.5, 0.5))]\n",
    "    )\n",
    "    \n",
    "    # Загружаем данные\n",
    "    trainvalset = torchvision.datasets.CIFAR10(root='./data', train=True,\n",
    "                                               download=True, transform=transform_train)\n",
    "    testset = torchvision.datasets.CIFAR10(root='./data', train=False,\n",
    "                                           download=True, transform=transform_test)\n",
    "    \n",
    "    # В датасете определено разбиение только на train и test,\n",
    "    # так что валидацию дополнительно выделяем из обучающей выборки\n",
    "    train_idx, valid_idx = train_test_split(np.arange(len(trainvalset)), test_size=0.3, \n",
    "                                            shuffle=True, random_state=0)\n",
    "    trainset = torch.utils.data.Subset(trainvalset, train_idx)\n",
    "    valset = torch.utils.data.Subset(trainvalset, valid_idx)\n",
    "\n",
    "    train_loader = torch.utils.data.DataLoader(trainset, batch_size=batch_size,\n",
    "                                               shuffle=True, num_workers=2)\n",
    "    val_loader = torch.utils.data.DataLoader(valset, batch_size=batch_size,\n",
    "                                             shuffle=False, num_workers=2)\n",
    "    test_loader = torch.utils.data.DataLoader(testset, batch_size=batch_size,\n",
    "                                              shuffle=False, num_workers=2)\n",
    "    \n",
    "    return train_loader, val_loader, test_loader\n",
    "    "
   ]
  },
  {
   "cell_type": "code",
   "execution_count": 3,
   "metadata": {
    "colab": {
     "base_uri": "https://localhost:8080/",
     "height": 101,
     "referenced_widgets": [
      "aa9da821ba0c42b5b051355e50e691f0",
      "95c5696493db48738dbdc9940acec1d8",
      "fe515a1f743f49d0b251b43919d52a8e",
      "f4f339c969fd4e21bc683ecb2567897b",
      "17b2be81159e41f1a5c6bb966516572e",
      "22bb21a6c57a413fb7374efe31349e6e",
      "18b20091dbf64b129824a8fb3266e3c0",
      "9bad0d6a00c14229b0d776a2cfe15090",
      "0fee9f5b7bdb4129a71ef0cfe9d3b1fa",
      "cd991379661b4b4ab405bf66f75c6834",
      "7d238166caf64537ad9aa2040dcdc1ec"
     ]
    },
    "id": "2G2rLnN5y6Jj",
    "outputId": "542c91e6-44f6-4e26-f1e8-5df3b83fd044",
    "pycharm": {
     "name": "#%%\n"
    }
   },
   "outputs": [
    {
     "name": "stdout",
     "output_type": "stream",
     "text": [
      "Downloading https://www.cs.toronto.edu/~kriz/cifar-10-python.tar.gz to ./data/cifar-10-python.tar.gz\n"
     ]
    },
    {
     "name": "stderr",
     "output_type": "stream",
     "text": [
      "100%|████████████████████████████████████████| 170M/170M [31:04<00:00, 91.4kB/s]\n"
     ]
    },
    {
     "name": "stdout",
     "output_type": "stream",
     "text": [
      "Extracting ./data/cifar-10-python.tar.gz to ./data\n",
      "Files already downloaded and verified\n"
     ]
    }
   ],
   "source": [
    "transform = transforms.Compose(\n",
    "        [transforms.ToTensor(),\n",
    "         transforms.Normalize((0.5, 0.5, 0.5), (0.5, 0.5, 0.5))]\n",
    ")\n",
    "\n",
    "train_loader, val_loader, test_loader = get_cifar10_data(batch_size=64, \n",
    "                                                         transform_train=transform)"
   ]
  },
  {
   "cell_type": "markdown",
   "metadata": {
    "id": "-82HWgXs77W1",
    "pycharm": {
     "name": "#%% md\n"
    }
   },
   "source": [
    "Посмотрим на изображения:"
   ]
  },
  {
   "cell_type": "code",
   "execution_count": 6,
   "metadata": {
    "colab": {
     "base_uri": "https://localhost:8080/",
     "height": 155
    },
    "id": "ACnwaC5iy6L2",
    "outputId": "fd2fc631-ea7b-45f2-9728-eb1c5f9e683c",
    "pycharm": {
     "name": "#%%\n"
    }
   },
   "outputs": [
    {
     "data": {
      "image/png": "[encoded data removed]",
      "text/plain": [
       "<Figure size 640x480 with 1 Axes>"
      ]
     },
     "metadata": {},
     "output_type": "display_data"
    },
    {
     "name": "stdout",
     "output_type": "stream",
     "text": [
      "truck deer truck frog\n"
     ]
    }
   ],
   "source": [
    "def imshow(img):\n",
    "    img = img / 2 + 0.5    \n",
    "    npimg = img.numpy()\n",
    "    plt.imshow(np.transpose(npimg, (1, 2, 0)))\n",
    "    plt.show()\n",
    "\n",
    "\n",
    "dataiter = iter(train_loader)\n",
    "images, labels = next(dataiter)\n",
    "\n",
    "imshow(torchvision.utils.make_grid(images[:4]))\n",
    "\n",
    "classes = ('plane', 'car', 'bird', 'cat',\n",
    "           'deer', 'dog', 'frog', 'horse', 'ship', 'truck')\n",
    "print(*[classes[labels[i]] for i in range(4)])"
   ]
  },
  {
   "cell_type": "markdown",
   "metadata": {
    "id": "KFDilng29YZ_",
    "pycharm": {
     "name": "#%% md\n"
    }
   },
   "source": [
    "## 1. Задание сверточной сети (3 балла)"
   ]
  },
  {
   "cell_type": "markdown",
   "metadata": {
    "id": "OX7Ul8YbYdQR",
    "pycharm": {
     "name": "#%% md\n"
    }
   },
   "source": [
    "Теперь нам нужно задать сверточную нейронную сеть, которую мы будем обучать классифицировать изображения.\n",
    "\n",
    "Используем сеть, основанную на одном блоке архитектуры ResNet.\n",
    "\n",
    "<img src=\"https://i.ibb.co/2hg962h/basic-block.png\" width=\"500\"/>\n",
    "\n",
    "__Указания:__\n",
    "\n",
    "- Все сверточные слои должны иметь 32 выходных канала, а также не должны изменять ширину и высоту изображения.\n",
    "- Выход блока сократите до размерности 32х4х4, применив average pooling.\n",
    "- Для получения итоговых логитов, распрямите выход пулинга в вектор из 512 элементов, а затем пропустите его через линейный слой."
   ]
  },
  {
   "cell_type": "markdown",
   "metadata": {
    "id": "sbyIylT9O9Dr",
    "pycharm": {
     "name": "#%% md\n"
    }
   },
   "source": [
    "**Задание 1.1 (3 балла).**\n",
    "\n",
    "Определите архитектуру сети соответственно схеме и указаниям выше.\n",
    "\n",
    "Ключевые слова: <code>Conv2d</code>, <code>BatchNorm2d</code>, <code>AvgPool2d</code>."
   ]
  },
  {
   "cell_type": "code",
   "execution_count": 9,
   "metadata": {
    "id": "s9ml1QGKy6N9",
    "pycharm": {
     "name": "#%%\n"
    }
   },
   "outputs": [],
   "source": [
    "n_classes = 10\n",
    "\n",
    "class BasicBlockNet(nn.Module):\n",
    "    def __init__(self):\n",
    "        super().__init__()\n",
    "        \n",
    "        self.conv_1 = nn.Conv2d(3, 32, kernel_size=3, padding=1)\n",
    "        self.conv_2 = nn.Conv2d(32, 32, kernel_size=3, padding=1)\n",
    "        self.conv_0 = nn.Conv2d(3, 32, kernel_size=1)\n",
    "        self.bn1 = nn.BatchNorm2d(32)\n",
    "        self.bn2 = nn.BatchNorm2d(32)\n",
    "        self.relu = nn.ReLU()\n",
    "        \n",
    "        self.conv2d_res = nn.Conv2d(3, 32, kernel_size=1)\n",
    "        self.pool = nn.AvgPool2d(8)\n",
    "        self.linear = nn.Linear(in_features=512, out_features=10)\n",
    "        \n",
    "\n",
    "    def forward(self, x):\n",
    "        main_x = self.bn2(self.conv_2(self.relu(self.bn1(self.conv_1(x)))))\n",
    "        add_x = self.conv_0(x)\n",
    "        out_ = self.pool(self.relu(main_x + add_x))\n",
    "        out = self.linear(torch.flatten(out_, start_dim=1))\n",
    "\n",
    "        return out"
   ]
  },
  {
   "cell_type": "code",
   "execution_count": 10,
   "metadata": {
    "id": "FI4BQg7Ky6Pw",
    "pycharm": {
     "name": "#%%\n"
    }
   },
   "outputs": [
    {
     "data": {
      "text/plain": [
       "BasicBlockNet(\n",
       "  (conv_1): Conv2d(3, 32, kernel_size=(3, 3), stride=(1, 1), padding=(1, 1))\n",
       "  (conv_2): Conv2d(32, 32, kernel_size=(3, 3), stride=(1, 1), padding=(1, 1))\n",
       "  (conv_0): Conv2d(3, 32, kernel_size=(1, 1), stride=(1, 1))\n",
       "  (bn1): BatchNorm2d(32, eps=1e-05, momentum=0.1, affine=True, track_running_stats=True)\n",
       "  (bn2): BatchNorm2d(32, eps=1e-05, momentum=0.1, affine=True, track_running_stats=True)\n",
       "  (relu): ReLU()\n",
       "  (conv2d_res): Conv2d(3, 32, kernel_size=(1, 1), stride=(1, 1))\n",
       "  (pool): AvgPool2d(kernel_size=8, stride=8, padding=0)\n",
       "  (linear): Linear(in_features=512, out_features=10, bias=True)\n",
       ")"
      ]
     },
     "execution_count": 10,
     "metadata": {},
     "output_type": "execute_result"
    }
   ],
   "source": [
    "net = BasicBlockNet()\n",
    "net"
   ]
  },
  {
   "cell_type": "markdown",
   "metadata": {
    "id": "igPoGZEub8d3",
    "pycharm": {
     "name": "#%% md\n"
    }
   },
   "source": [
    "Проверим, что выход сети имеет корректную размерность:"
   ]
  },
  {
   "cell_type": "code",
   "execution_count": 11,
   "metadata": {
    "id": "cCIzFUpJ_Agw",
    "pycharm": {
     "name": "#%%\n"
    }
   },
   "outputs": [],
   "source": [
    "assert net(torch.zeros((10, 3, 32, 32))).shape == (10, 10)"
   ]
  },
  {
   "cell_type": "markdown",
   "metadata": {
    "id": "08osX622cDGz",
    "pycharm": {
     "name": "#%% md\n"
    }
   },
   "source": [
    "Чтобы проводить вычисления на GPU, в PyTorch необходимо руками перекладывать объекты, с которыми вы хотите проводить вычисления, на графический ускоритель. Это делается следующим образрм:"
   ]
  },
  {
   "cell_type": "code",
   "execution_count": 12,
   "metadata": {
    "id": "56hDOMCFcDZX",
    "pycharm": {
     "name": "#%%\n"
    }
   },
   "outputs": [
    {
     "name": "stdout",
     "output_type": "stream",
     "text": [
      "mps:0\n"
     ]
    }
   ],
   "source": [
    "device = torch.device('mps:0' if torch.backends.mps.is_available() else 'cpu')\n",
    "print(device)"
   ]
  },
  {
   "cell_type": "code",
   "execution_count": 13,
   "metadata": {
    "id": "ohnDWbp0qbtC",
    "pycharm": {
     "name": "#%%\n"
    }
   },
   "outputs": [],
   "source": [
    "net = net.to(device)"
   ]
  },
  {
   "cell_type": "markdown",
   "metadata": {
    "id": "H_bOlTVUp5QF",
    "pycharm": {
     "name": "#%% md\n"
    }
   },
   "source": [
    "Подключение GPU в google.colab:\n",
    "\n",
    "**Среда выполнения** -> **Сменить среду выполнения** -> **Аппаратный ускоритель** -> **GPU**"
   ]
  },
  {
   "cell_type": "markdown",
   "metadata": {
    "id": "AGi6XX_7_Bgg",
    "pycharm": {
     "name": "#%% md\n"
    }
   },
   "source": [
    "## 2. Обучение и тестирование модели (3 балла)"
   ]
  },
  {
   "cell_type": "markdown",
   "metadata": {
    "id": "0agj_MQoO9Ds",
    "pycharm": {
     "name": "#%% md\n"
    }
   },
   "source": [
    "**Задание 2.1 (2 балла).** Переходим к обучению модели. Заполните пропуски в функциях <code>test</code> и <code>train_epoch</code>. В качестве функции потерь будем использовать [кросс-энтропию](https://pytorch.org/docs/stable/generated/torch.nn.functional.cross_entropy.html), а в качестве метрики качества accuracy."
   ]
  },
  {
   "cell_type": "code",
   "execution_count": 17,
   "metadata": {
    "id": "g8gsPPRIevDS",
    "pycharm": {
     "name": "#%%\n"
    }
   },
   "outputs": [],
   "source": [
    "def test(model, loader):\n",
    "    loss_log = []\n",
    "    acc_log = []\n",
    "    model.eval()\n",
    "    \n",
    "    for data, target in loader:\n",
    "        \n",
    "        data = data.to(device)\n",
    "        target = target.to(device)\n",
    "        \n",
    "        logits = model(data)\n",
    "        loss = nn.functional.cross_entropy(logits, target)\n",
    "        \n",
    "        loss_log.append(loss.item())\n",
    "        \n",
    "        # <your code here>\n",
    "        acc = (logits.argmax(dim=1) == target).sum() / len(target)\n",
    "        \n",
    "        acc_log.append(acc.item()) \n",
    "        \n",
    "    return np.mean(loss_log), np.mean(acc_log)\n",
    "\n",
    "\n",
    "def train_epoch(model, optimizer, train_loader):\n",
    "    loss_log = []\n",
    "    acc_log = []\n",
    "    model.train()\n",
    "    \n",
    "    for data, target in train_loader:\n",
    "        \n",
    "        # <your code here>\n",
    "        data = data.to(device)\n",
    "        target = target.to(device)\n",
    "        \n",
    "        optimizer.zero_grad()\n",
    "        logits = model(data)\n",
    "        loss = nn.functional.cross_entropy(logits, target)\n",
    "        loss.backward()\n",
    "        optimizer.step()\n",
    "        \n",
    "        loss_log.append(loss.item())\n",
    "        \n",
    "        # <your code here>\n",
    "        acc = (logits.argmax(dim=1) == target).sum() / len(target)\n",
    "        \n",
    "        acc_log.append(acc.item()) \n",
    "\n",
    "    return loss_log, acc_log\n",
    "\n",
    "\n",
    "def train(model, optimizer, n_epochs, train_loader, val_loader, scheduler=None):\n",
    "    train_loss_log, train_acc_log, val_loss_log, val_acc_log = [], [], [], []\n",
    "\n",
    "    for epoch in range(n_epochs):\n",
    "        train_loss, train_acc = train_epoch(model, optimizer, train_loader)\n",
    "        val_loss, val_acc = test(model, val_loader)\n",
    "        \n",
    "        train_loss_log.extend(train_loss)\n",
    "        train_acc_log.extend(train_acc)\n",
    "        \n",
    "        val_loss_log.append(val_loss)\n",
    "        val_acc_log.append(val_acc)\n",
    "\n",
    "        print(f\"Epoch {epoch}\")\n",
    "        print(f\" train loss: {np.mean(train_loss)}, train acc: {np.mean(train_acc)}\")\n",
    "        print(f\" val loss: {val_loss}, val acc: {val_acc}\\n\")\n",
    "        \n",
    "        if scheduler is not None:\n",
    "            scheduler.step()\n",
    "\n",
    "    return train_loss_log, train_acc_log, val_loss_log, val_acc_log"
   ]
  },
  {
   "cell_type": "markdown",
   "metadata": {
    "id": "iSOqk_CAO9Dt",
    "pycharm": {
     "name": "#%% md\n"
    }
   },
   "source": [
    "Запустим обучение модели. В качестве оптимизатора будем использовать стохастический градиентный спуск, который является де-факто стандартом в задачах компьютерного зрения (наравне с <code>Adam</code>).\n",
    "\n",
    "__Замечание:__ Для достижения наилучшего качества в нашем случае потребуется обучать модель несколько сотен эпох. Однако в целях экономии вашего времени и сил, во всех экспериментах мы ограничимся 20 эпохами."
   ]
  },
  {
   "cell_type": "code",
   "execution_count": 18,
   "metadata": {
    "id": "MKZBGhuAgMDu",
    "pycharm": {
     "name": "#%%\n"
    },
    "scrolled": true
   },
   "outputs": [
    {
     "name": "stdout",
     "output_type": "stream",
     "text": [
      "Epoch 0\n",
      " train loss: 1.43800684847823, train acc: 0.4886189279652165\n",
      " val loss: 1.2385197383292177, val acc: 0.5581560284533399\n",
      "\n",
      "Epoch 1\n",
      " train loss: 1.144142543158104, train acc: 0.5962310655679302\n",
      " val loss: 1.1015817756348467, val acc: 0.6131205672913409\n",
      "\n",
      "Epoch 2\n",
      " train loss: 1.0355268665597905, train acc: 0.6388621376027137\n",
      " val loss: 1.0094080189441113, val acc: 0.6466312055892133\n",
      "\n",
      "Epoch 3\n",
      " train loss: 0.9800527768117636, train acc: 0.6622445482004713\n",
      " val loss: 1.025925820178174, val acc: 0.6384530140998516\n",
      "\n",
      "Epoch 4\n",
      " train loss: 0.943973871319124, train acc: 0.6722953121230633\n",
      " val loss: 1.020514028630358, val acc: 0.6541666667512123\n",
      "\n",
      "Epoch 5\n",
      " train loss: 0.9202652899395177, train acc: 0.6813054975033678\n",
      " val loss: 0.9439395432776593, val acc: 0.678036347602276\n",
      "\n",
      "Epoch 6\n",
      " train loss: 0.8883917616642807, train acc: 0.6961714873802074\n",
      " val loss: 0.9736133512030256, val acc: 0.6648936170212766\n",
      "\n",
      "Epoch 7\n",
      " train loss: 0.8683013688275757, train acc: 0.7010805692925531\n",
      " val loss: 0.9338607878126997, val acc: 0.6821365247381495\n",
      "\n",
      "Epoch 8\n",
      " train loss: 0.8465313879837719, train acc: 0.7062385740402194\n",
      " val loss: 0.8891121864318847, val acc: 0.695190602921425\n",
      "\n",
      "Epoch 9\n",
      " train loss: 0.8392926107485944, train acc: 0.7084380712979891\n",
      " val loss: 0.8829411965735415, val acc: 0.6918882978723404\n",
      "\n",
      "Epoch 10\n",
      " train loss: 0.828766233742346, train acc: 0.7137756268110746\n",
      " val loss: 0.8932729802233108, val acc: 0.6914450353764473\n",
      "\n",
      "Epoch 11\n",
      " train loss: 0.8132035208685524, train acc: 0.7181052493656793\n",
      " val loss: 0.8888009035840948, val acc: 0.6953457446808511\n",
      "\n",
      "Epoch 12\n",
      " train loss: 0.8025232702766084, train acc: 0.7227572472919276\n",
      " val loss: 0.862750109332673, val acc: 0.7008865247381494\n",
      "\n",
      "Epoch 13\n",
      " train loss: 0.7884330479274938, train acc: 0.7262013580725005\n",
      " val loss: 0.9421422427004956, val acc: 0.6774601063829787\n",
      "\n",
      "Epoch 14\n",
      " train loss: 0.7846398720793576, train acc: 0.7265767824497258\n",
      " val loss: 0.8709021583516547, val acc: 0.6999113476022761\n",
      "\n",
      "Epoch 15\n",
      " train loss: 0.7705443447534084, train acc: 0.7361582658190614\n",
      " val loss: 0.870742422215482, val acc: 0.704499113559723\n",
      "\n",
      "Epoch 16\n",
      " train loss: 0.7642221843084862, train acc: 0.734881006821418\n",
      " val loss: 0.9212129811023144, val acc: 0.6887189716734785\n",
      "\n",
      "Epoch 17\n",
      " train loss: 0.7480504280143507, train acc: 0.7414305301645339\n",
      " val loss: 0.856025626684757, val acc: 0.7060726949509154\n",
      "\n",
      "Epoch 18\n",
      " train loss: 0.7457873063396928, train acc: 0.741275463614211\n",
      " val loss: 0.8698616041782055, val acc: 0.7026374114320634\n",
      "\n",
      "Epoch 19\n",
      " train loss: 0.7378529467682952, train acc: 0.7440462588610117\n",
      " val loss: 0.8260749274111808, val acc: 0.7149601063829787\n",
      "\n"
     ]
    }
   ],
   "source": [
    "optimizer = optim.SGD(net.parameters(), lr=0.1, momentum=0.9)\n",
    "train_loss_log, train_acc_log, val_loss_log, val_acc_log = train(net, optimizer, 20, train_loader, val_loader)"
   ]
  },
  {
   "cell_type": "markdown",
   "metadata": {
    "id": "gUb1jQW8O9Dt",
    "pycharm": {
     "name": "#%% md\n"
    }
   },
   "source": [
    "Посчитайте точность на тестовой выборке:"
   ]
  },
  {
   "cell_type": "code",
   "execution_count": 19,
   "metadata": {
    "id": "Jyuc55B9_Amc",
    "pycharm": {
     "name": "#%%\n"
    }
   },
   "outputs": [
    {
     "data": {
      "text/plain": [
       "0.7108877388535032"
      ]
     },
     "execution_count": 19,
     "metadata": {},
     "output_type": "execute_result"
    }
   ],
   "source": [
    "loss_, acc_ = test(net, test_loader)\n",
    "np.mean(acc_)"
   ]
  },
  {
   "cell_type": "markdown",
   "metadata": {
    "id": "zM38Q9fwO9Dt",
    "pycharm": {
     "name": "#%% md\n"
    }
   },
   "source": [
    "Если вы все сделали правильно, у вас должна была получиться точность $\\ge 67\\%$."
   ]
  },
  {
   "cell_type": "markdown",
   "metadata": {
    "id": "DHFNSKcoO9Dt",
    "pycharm": {
     "name": "#%% md\n"
    }
   },
   "source": [
    "**Задание 2.2 (1 балл).** Постройте графики зависимости функции потерь и точности классификации от номера шага оптимизатора. На каждом графике расположите данные и для обучающей и для валидационной выборки, итого у вас должно получиться два графика. Обратите внимание, что на обучающей выборке эти данные считаются по каждому батчу, на валидационной же они считаются по всей выборке раз в эпоху."
   ]
  },
  {
   "cell_type": "code",
   "execution_count": 24,
   "metadata": {
    "id": "LzIP0tGLO9Dt",
    "pycharm": {
     "name": "#%%\n"
    }
   },
   "outputs": [
    {
     "data": {
      "image/png": "[encoded data removed]",
      "text/plain": [
       "<Figure size 1200x600 with 2 Axes>"
      ]
     },
     "metadata": {},
     "output_type": "display_data"
    }
   ],
   "source": [
    "import matplotlib.pyplot as plt\n",
    "\n",
    "steps_train = len(train_loss_log) \n",
    "epochs_val = len(val_loss_log)\n",
    "\n",
    "plt.figure(figsize=(12, 6))\n",
    "\n",
    "plt.subplot(1, 2, 1)\n",
    "plt.plot(range(steps_train), train_loss_log, label='Train Loss', color='blue', alpha=0.7)\n",
    "plt.plot(range(0, steps_train, steps_train // epochs_val), val_loss_log, label='Validation Loss', color='red', marker='o')\n",
    "\n",
    "plt.title('Loss')\n",
    "plt.xlabel('Step')\n",
    "plt.ylabel('Loss')\n",
    "plt.legend()\n",
    "\n",
    "plt.subplot(1, 2, 2)\n",
    "plt.plot(range(steps_train), train_acc_log, label='Train Accuracy', color='blue', alpha=0.7)\n",
    "plt.plot(range(0, steps_train, steps_train // epochs_val), val_acc_log, label='Validation Accuracy', color='red', marker='o')\n",
    "\n",
    "plt.title('Accuracy')\n",
    "plt.xlabel('Step')\n",
    "plt.ylabel('Accuracy')\n",
    "plt.legend()\n",
    "\n",
    "plt.tight_layout()\n",
    "plt.show()"
   ]
  },
  {
   "cell_type": "markdown",
   "metadata": {
    "id": "_ttOJPj-O9Dt",
    "pycharm": {
     "name": "#%% md\n"
    }
   },
   "source": [
    "## 3. Расписание длины шага (2 балла)"
   ]
  },
  {
   "cell_type": "markdown",
   "metadata": {
    "id": "qiz3JstuO9Dt",
    "pycharm": {
     "name": "#%% md\n"
    }
   },
   "source": [
    "С курса \"Машинное обучение 1\" вы уже должны знать, что сходимость стохастического градиентного спуска мы можем теоретически гарантировать только если будем определенным образом со временем уменьшать длину шага. На практике при обучении нейронных сетей такая техника оказывается очень полезной, однако теоретически обоснованными способами уменьшения длины шага фантазия не ограничивается.\n",
    "\n",
    "Одним из простейших способов является кусочно постоянная функция: на нескольких фиксированных эпохах уменьшаем длину шага в константу раз."
   ]
  },
  {
   "cell_type": "code",
   "execution_count": 25,
   "metadata": {
    "id": "V2Z0OT3nO9Du",
    "pycharm": {
     "name": "#%%\n"
    },
    "scrolled": true
   },
   "outputs": [
    {
     "name": "stdout",
     "output_type": "stream",
     "text": [
      "Epoch 0\n",
      " train loss: 1.5104384178217412, train acc: 0.4576953839122486\n",
      " val loss: 1.3387784968031213, val acc: 0.5278147162275112\n",
      "\n",
      "Epoch 1\n",
      " train loss: 1.2012800040367098, train acc: 0.5771415513655821\n",
      " val loss: 1.0984735214963872, val acc: 0.6180851063829788\n",
      "\n",
      "Epoch 2\n",
      " train loss: 1.0845359252183486, train acc: 0.6204500196184929\n",
      " val loss: 1.0971490380611826, val acc: 0.619437056653043\n",
      "\n",
      "Epoch 3\n",
      " train loss: 1.0280102420550596, train acc: 0.6424857991487061\n",
      " val loss: 1.0115955243719386, val acc: 0.644281914893617\n",
      "\n",
      "Epoch 4\n",
      " train loss: 0.9803204785971145, train acc: 0.6605061700182815\n",
      " val loss: 1.0068119858173614, val acc: 0.6533909574468085\n",
      "\n",
      "Epoch 5\n",
      " train loss: 0.952796926664042, train acc: 0.6685247453954581\n",
      " val loss: 0.9784900880874472, val acc: 0.6644946808510638\n",
      "\n",
      "Epoch 6\n",
      " train loss: 0.9314295399995347, train acc: 0.676869776719667\n",
      " val loss: 0.9795908491662209, val acc: 0.6611480497299357\n",
      "\n",
      "Epoch 7\n",
      " train loss: 0.9114818715744089, train acc: 0.6839334682529108\n",
      " val loss: 0.9583278237505162, val acc: 0.6662234042553191\n",
      "\n",
      "Epoch 8\n",
      " train loss: 0.8948468359994278, train acc: 0.6885242556959009\n",
      " val loss: 0.9519244805295417, val acc: 0.6680407800572984\n",
      "\n",
      "Epoch 9\n",
      " train loss: 0.8794218743632001, train acc: 0.6931925763595692\n",
      " val loss: 0.9603225150006882, val acc: 0.6719193263256803\n",
      "\n",
      "Epoch 10\n",
      " train loss: 0.7773788828518534, train acc: 0.7310288260798131\n",
      " val loss: 0.847388549814833, val acc: 0.7081781914893617\n",
      "\n",
      "Epoch 11\n",
      " train loss: 0.75834528990158, train acc: 0.7373743144424132\n",
      " val loss: 0.841947477421862, val acc: 0.7114140071767442\n",
      "\n",
      "Epoch 12\n",
      " train loss: 0.7524357217430414, train acc: 0.7403981130999229\n",
      " val loss: 0.8382593400934909, val acc: 0.7126773050490846\n",
      "\n",
      "Epoch 13\n",
      " train loss: 0.7471523502300165, train acc: 0.7402920148708266\n",
      " val loss: 0.8375451250279203, val acc: 0.7125443263256803\n",
      "\n",
      "Epoch 14\n",
      " train loss: 0.7444319020568562, train acc: 0.7417284212121144\n",
      " val loss: 0.8344122503666167, val acc: 0.7150709220703612\n",
      "\n",
      "Epoch 15\n",
      " train loss: 0.7277619965660507, train acc: 0.7480290219378428\n",
      " val loss: 0.8267608782078357, val acc: 0.7161347518575952\n",
      "\n",
      "Epoch 16\n",
      " train loss: 0.7279543828702714, train acc: 0.7489430987202925\n",
      " val loss: 0.8267600731646761, val acc: 0.7156028369639782\n",
      "\n",
      "Epoch 17\n",
      " train loss: 0.7260910964535185, train acc: 0.7493389266282593\n",
      " val loss: 0.8258689094097056, val acc: 0.7159352837724888\n",
      "\n",
      "Epoch 18\n",
      " train loss: 0.726229307420511, train acc: 0.7482371376027137\n",
      " val loss: 0.8261267098974674, val acc: 0.7164007093044038\n",
      "\n",
      "Epoch 19\n",
      " train loss: 0.7257216673010664, train acc: 0.7484778989603577\n",
      " val loss: 0.8261150187634407, val acc: 0.7164007093044038\n",
      "\n"
     ]
    }
   ],
   "source": [
    "net = BasicBlockNet().to(device)\n",
    "optimizer = optim.SGD(net.parameters(), lr=0.1, momentum=0.9)\n",
    "scheduler = optim.lr_scheduler.MultiStepLR(optimizer, milestones=[10, 15], gamma=0.1)\n",
    "tr_loss_log, tr_acc_log, val_loss_log, val_acc_log = train(net, optimizer, 20, train_loader, val_loader, scheduler)"
   ]
  },
  {
   "cell_type": "markdown",
   "metadata": {
    "id": "5Xc76KvzO9Du",
    "pycharm": {
     "name": "#%% md\n"
    }
   },
   "source": [
    "Посчитайте точность на тестовой выборке:"
   ]
  },
  {
   "cell_type": "code",
   "execution_count": 26,
   "metadata": {
    "id": "1AjiYhKqO9Du",
    "pycharm": {
     "name": "#%%\n"
    }
   },
   "outputs": [
    {
     "data": {
      "text/plain": [
       "0.7121815286624203"
      ]
     },
     "execution_count": 26,
     "metadata": {},
     "output_type": "execute_result"
    }
   ],
   "source": [
    "loss_, acc_ = test(net, test_loader)\n",
    "np.mean(acc_)"
   ]
  },
  {
   "cell_type": "markdown",
   "metadata": {
    "id": "yE0dgLYrO9Du",
    "pycharm": {
     "name": "#%% md\n"
    }
   },
   "source": [
    "**Задание 3.0 (0.5 баллов).** Здесь может возникнуть вопрос: а что будет, если мы не будем уменьшать длину шага в процессе обучения, а сразу возьмем констатную, равную значению нашей кусочно-постоянной функции на последних эпохах, то есть $0.001$ в нашем случае. Запустите обучение и проверьте, что в таком случае мы получим худшее качество на тестовой выборке."
   ]
  },
  {
   "cell_type": "code",
   "execution_count": 27,
   "metadata": {
    "id": "qZ2iB-LBO9Du",
    "pycharm": {
     "name": "#%%\n"
    },
    "scrolled": true
   },
   "outputs": [
    {
     "name": "stdout",
     "output_type": "stream",
     "text": [
      "Epoch 0\n",
      " train loss: 1.810585144668872, train acc: 0.36439426088028026\n",
      " val loss: 1.5883117853327, val acc: 0.4465425531914894\n",
      "\n",
      "Epoch 1\n",
      " train loss: 1.507477867973788, train acc: 0.4710637568555759\n",
      " val loss: 1.4249770321744553, val acc: 0.49851507087971303\n",
      "\n",
      "Epoch 2\n",
      " train loss: 1.3975153407405456, train acc: 0.5117687385740403\n",
      " val loss: 1.3511594396956423, val acc: 0.5219636525245424\n",
      "\n",
      "Epoch 3\n",
      " train loss: 1.3307151514389832, train acc: 0.5332128166934472\n",
      " val loss: 1.316711152868068, val acc: 0.5314716312479466\n",
      "\n",
      "Epoch 4\n",
      " train loss: 1.2806716697525498, train acc: 0.5490989814728662\n",
      " val loss: 1.2481124936266148, val acc: 0.5633421986661059\n",
      "\n",
      "Epoch 5\n",
      " train loss: 1.2353927915885201, train acc: 0.566225678981767\n",
      " val loss: 1.233025406269317, val acc: 0.5666001772626917\n",
      "\n",
      "Epoch 6\n",
      " train loss: 1.1938260975659873, train acc: 0.5809488443613489\n",
      " val loss: 1.186341258820067, val acc: 0.5809840425531915\n",
      "\n",
      "Epoch 7\n",
      " train loss: 1.159737056526449, train acc: 0.5922442216977777\n",
      " val loss: 1.164803105719546, val acc: 0.5924645389648194\n",
      "\n",
      "Epoch 8\n",
      " train loss: 1.1240824696350795, train acc: 0.6078610603290676\n",
      " val loss: 1.1032676313785796, val acc: 0.6154033688788718\n",
      "\n",
      "Epoch 9\n",
      " train loss: 1.088877530485882, train acc: 0.6224903695326183\n",
      " val loss: 1.0963350859094174, val acc: 0.6169326240712024\n",
      "\n",
      "Epoch 10\n",
      " train loss: 1.061730989263524, train acc: 0.6300355836721835\n",
      " val loss: 1.0844241033209132, val acc: 0.6238031914893617\n",
      "\n",
      "Epoch 11\n",
      " train loss: 1.0386853539529624, train acc: 0.6393722251084867\n",
      " val loss: 1.037396231864361, val acc: 0.6343971630360218\n",
      "\n",
      "Epoch 12\n",
      " train loss: 1.0162790619259126, train acc: 0.6475581091980176\n",
      " val loss: 1.0296838595512066, val acc: 0.6439937944107867\n",
      "\n",
      "Epoch 13\n",
      " train loss: 0.9982945669503709, train acc: 0.6518999739146538\n",
      " val loss: 1.0089973944298765, val acc: 0.6442597518575952\n",
      "\n",
      "Epoch 14\n",
      " train loss: 0.9880703365127173, train acc: 0.6555317968293561\n",
      " val loss: 0.989940560117681, val acc: 0.6496675531914894\n",
      "\n",
      "Epoch 15\n",
      " train loss: 0.9720080571157187, train acc: 0.6634197897623401\n",
      " val loss: 0.9675583177424492, val acc: 0.6625\n",
      "\n",
      "Epoch 16\n",
      " train loss: 0.9610576869364849, train acc: 0.6664721533193013\n",
      " val loss: 0.9827472001948255, val acc: 0.6580452127659574\n",
      "\n",
      "Epoch 17\n",
      " train loss: 0.9497006920181637, train acc: 0.6685165839177817\n",
      " val loss: 0.9622027843556505, val acc: 0.6634530140998516\n",
      "\n",
      "Epoch 18\n",
      " train loss: 0.9382907741684364, train acc: 0.6753639984174445\n",
      " val loss: 0.9698354997533433, val acc: 0.6579122340425532\n",
      "\n",
      "Epoch 19\n",
      " train loss: 0.9292200874584903, train acc: 0.6788081091980176\n",
      " val loss: 0.9546902935555641, val acc: 0.6655585106382979\n",
      "\n"
     ]
    }
   ],
   "source": [
    "net = BasicBlockNet().to(device)\n",
    "optimizer = optim.SGD(net.parameters(), lr=0.001, momentum=0.9)\n",
    "tr_loss_log, tr_acc_log, val_loss_log, val_acc_log = train(net, optimizer, 20, train_loader, val_loader, scheduler)"
   ]
  },
  {
   "cell_type": "code",
   "execution_count": 28,
   "metadata": {},
   "outputs": [
    {
     "data": {
      "text/plain": [
       "0.6639132165605095"
      ]
     },
     "execution_count": 28,
     "metadata": {},
     "output_type": "execute_result"
    }
   ],
   "source": [
    "loss_, acc_ = test(net, test_loader)\n",
    "np.mean(acc_)"
   ]
  },
  {
   "cell_type": "markdown",
   "metadata": {
    "id": "xVotU378O9Du",
    "pycharm": {
     "name": "#%% md\n"
    }
   },
   "source": [
    "**Задание 3.1 (1.5 балла).** Изучите, какие еще способы уменьшения длины шага представлены в <code>torch.optim.lr_scheduler</code>. Выберите несколько из них, объясните, как они устроены, и обучите модель с ними. Удалось ли добиться улучшения качества на тестовой выборке?"
   ]
  },
  {
   "cell_type": "code",
   "execution_count": 29,
   "metadata": {
    "id": "nkGlzocOO9Du",
    "pycharm": {
     "name": "#%%\n"
    },
    "scrolled": true
   },
   "outputs": [
    {
     "name": "stdout",
     "output_type": "stream",
     "text": [
      "Epoch 0\n",
      " train loss: 1.4995059088771479, train acc: 0.46644032382877915\n",
      " val loss: 1.3358989436575708, val acc: 0.529875886440277\n",
      "\n",
      "Epoch 1\n",
      " train loss: 1.1796941505489664, train acc: 0.5843929550329554\n",
      " val loss: 1.1356507245530474, val acc: 0.608222517815042\n",
      "\n",
      "Epoch 2\n",
      " train loss: 1.0688983701046904, train acc: 0.6286889527136055\n",
      " val loss: 1.0954518013812127, val acc: 0.6145833332487878\n",
      "\n",
      "Epoch 3\n",
      " train loss: 1.0113010066518835, train acc: 0.6501697571011741\n",
      " val loss: 1.0006779716369953, val acc: 0.6565602837724889\n",
      "\n",
      "Epoch 4\n",
      " train loss: 0.9657144057249456, train acc: 0.6599063071297989\n",
      " val loss: 1.0059794674528406, val acc: 0.6528812055892133\n",
      "\n",
      "Epoch 5\n",
      " train loss: 0.9380859179078334, train acc: 0.6753639984174445\n",
      " val loss: 1.0567729052076948, val acc: 0.6371675531914893\n",
      "\n",
      "Epoch 6\n",
      " train loss: 0.9184149038421171, train acc: 0.6805546487489174\n",
      " val loss: 0.9325769411756637, val acc: 0.6764849289934686\n",
      "\n",
      "Epoch 7\n",
      " train loss: 0.8998801215148278, train acc: 0.6865981652706153\n",
      " val loss: 0.9729572367160878, val acc: 0.6600398936170213\n",
      "\n",
      "Epoch 8\n",
      " train loss: 0.8823838148953927, train acc: 0.6952614912821127\n",
      " val loss: 0.9719428143602736, val acc: 0.6748670212765957\n",
      "\n",
      "Epoch 9\n",
      " train loss: 0.8652074464496354, train acc: 0.6974242621627542\n",
      " val loss: 0.907303127583037, val acc: 0.6850398936170212\n",
      "\n",
      "Epoch 10\n",
      " train loss: 0.7536140897156334, train acc: 0.7376069143223806\n",
      " val loss: 0.8368954465744344, val acc: 0.7124556736743196\n",
      "\n",
      "Epoch 11\n",
      " train loss: 0.738874711709223, train acc: 0.7422221859804673\n",
      " val loss: 0.8334848809749522, val acc: 0.716156914893617\n",
      "\n",
      "Epoch 12\n",
      " train loss: 0.7308260139752132, train acc: 0.744952174165785\n",
      " val loss: 0.8302157219420088, val acc: 0.7155141843126175\n",
      "\n",
      "Epoch 13\n",
      " train loss: 0.7266266603683423, train acc: 0.7470496539877799\n",
      " val loss: 0.833140401130027, val acc: 0.7148936170212766\n",
      "\n",
      "Epoch 14\n",
      " train loss: 0.7218068626724605, train acc: 0.7486492883570669\n",
      " val loss: 0.8265377332555487, val acc: 0.7147828013338942\n",
      "\n",
      "Epoch 15\n",
      " train loss: 0.7199041988339677, train acc: 0.750779413653902\n",
      " val loss: 0.8237859069032872, val acc: 0.7168882978723404\n",
      "\n",
      "Epoch 16\n",
      " train loss: 0.7156368223252201, train acc: 0.752676939179736\n",
      " val loss: 0.8266298177394461, val acc: 0.7170212765957447\n",
      "\n",
      "Epoch 17\n",
      " train loss: 0.7127861906340179, train acc: 0.7517995886654479\n",
      " val loss: 0.8252660722174543, val acc: 0.717375886440277\n",
      "\n",
      "Epoch 18\n",
      " train loss: 0.7090487069904913, train acc: 0.755827239488117\n",
      " val loss: 0.819359710622341, val acc: 0.7175531914893617\n",
      "\n",
      "Epoch 19\n",
      " train loss: 0.7078420610270945, train acc: 0.7549335662364088\n",
      " val loss: 0.81800736784935, val acc: 0.719281914893617\n",
      "\n"
     ]
    }
   ],
   "source": [
    "net = BasicBlockNet().to(device) \n",
    "optimizer_step_lr = optim.SGD(net.parameters(), lr=0.1, momentum=0.9)\n",
    "scheduler_step_lr = optim.lr_scheduler.StepLR(optimizer_step_lr, step_size=10, gamma=0.1)\n",
    "tr_loss_step_lr, tr_acc_step_lr, val_loss_step_lr, val_acc_step_lr = train(net, optimizer_step_lr, 20, train_loader, val_loader, scheduler_step_lr)"
   ]
  },
  {
   "cell_type": "code",
   "execution_count": 30,
   "metadata": {},
   "outputs": [
    {
     "data": {
      "text/plain": [
       "0.7195461783439491"
      ]
     },
     "execution_count": 30,
     "metadata": {},
     "output_type": "execute_result"
    }
   ],
   "source": [
    "loss_, acc_ = test(net, test_loader)\n",
    "np.mean(acc_)"
   ]
  },
  {
   "cell_type": "code",
   "execution_count": 31,
   "metadata": {
    "scrolled": true
   },
   "outputs": [
    {
     "name": "stdout",
     "output_type": "stream",
     "text": [
      "Epoch 0\n",
      " train loss: 1.4843864549884414, train acc: 0.46844394747474294\n",
      " val loss: 1.2715716610563563, val acc: 0.5460328014607125\n",
      "\n",
      "Epoch 1\n",
      " train loss: 1.169940609382755, train acc: 0.5853478388768881\n",
      " val loss: 1.2261552795450739, val acc: 0.5751994680851064\n",
      "\n",
      "Epoch 2\n",
      " train loss: 1.0467407027807707, train acc: 0.6352303146880113\n",
      " val loss: 1.0675206795651861, val acc: 0.6259751773895101\n",
      "\n",
      "Epoch 3\n",
      " train loss: 0.9844406239511326, train acc: 0.6573191433327725\n",
      " val loss: 1.0332166993871648, val acc: 0.6447251773895102\n",
      "\n",
      "Epoch 4\n",
      " train loss: 0.9403636827111462, train acc: 0.6753966440012512\n",
      " val loss: 0.9651895033552291, val acc: 0.6695257093044038\n",
      "\n",
      "Epoch 5\n",
      " train loss: 0.9144653161439424, train acc: 0.6836029316215236\n",
      " val loss: 0.9338117340777783, val acc: 0.6790336880278081\n",
      "\n",
      "Epoch 6\n",
      " train loss: 0.886457175942618, train acc: 0.6940740075582125\n",
      " val loss: 0.950591949706382, val acc: 0.6744459220703612\n",
      "\n",
      "Epoch 7\n",
      " train loss: 0.8609052052009694, train acc: 0.7015172042620029\n",
      " val loss: 0.9560398208334091, val acc: 0.6702349289934686\n",
      "\n",
      "Epoch 8\n",
      " train loss: 0.8485337542659404, train acc: 0.7054061112717693\n",
      " val loss: 0.9075878445138322, val acc: 0.6912898936170213\n",
      "\n",
      "Epoch 9\n",
      " train loss: 0.8311258440043852, train acc: 0.7125922237715294\n",
      " val loss: 0.9804871584506745, val acc: 0.6619459220703612\n",
      "\n",
      "Epoch 10\n",
      " train loss: 0.8108352125780673, train acc: 0.7183419300389682\n",
      " val loss: 0.8635908504749866, val acc: 0.7035017731341909\n",
      "\n",
      "Epoch 11\n",
      " train loss: 0.7972010680809754, train acc: 0.7234795312558929\n",
      " val loss: 0.8806152955014654, val acc: 0.6945921986661059\n",
      "\n",
      "Epoch 12\n",
      " train loss: 0.7826753288126079, train acc: 0.7301637177275565\n",
      " val loss: 0.8680201779020593, val acc: 0.7015514183551708\n",
      "\n",
      "Epoch 13\n",
      " train loss: 0.7714778474741487, train acc: 0.7308003068842007\n",
      " val loss: 0.9358053121160954, val acc: 0.6871010638297872\n",
      "\n",
      "Epoch 14\n",
      " train loss: 0.7558827095646309, train acc: 0.738100678981767\n",
      " val loss: 0.8562183314181389, val acc: 0.7054299646235527\n",
      "\n",
      "Epoch 15\n",
      " train loss: 0.74648017775424, train acc: 0.7410632671560187\n",
      " val loss: 0.8607691762295175, val acc: 0.7068484042553191\n",
      "\n",
      "Epoch 16\n",
      " train loss: 0.7388795501462284, train acc: 0.7457560720347836\n",
      " val loss: 0.8420330922654334, val acc: 0.7106382978723405\n",
      "\n",
      "Epoch 17\n",
      " train loss: 0.7324834519918919, train acc: 0.7465640506971035\n",
      " val loss: 0.8416736217255288, val acc: 0.7109042553191489\n",
      "\n",
      "Epoch 18\n",
      " train loss: 0.7236799417400709, train acc: 0.748710498840325\n",
      " val loss: 0.8416286022105115, val acc: 0.712655141759426\n",
      "\n",
      "Epoch 19\n",
      " train loss: 0.7114497683601798, train acc: 0.7539093105405079\n",
      " val loss: 0.8161279944663352, val acc: 0.7186170212765958\n",
      "\n"
     ]
    }
   ],
   "source": [
    "net = BasicBlockNet().to(device) \n",
    "optimizer_exp_lr = optim.SGD(net.parameters(), lr=0.1, momentum=0.9)\n",
    "scheduler_exp_lr = optim.lr_scheduler.ExponentialLR(optimizer_exp_lr, gamma=0.95)\n",
    "tr_loss_exp_lr, tr_acc_exp_lr, val_loss_exp_lr, val_acc_exp_lr = train(\n",
    "    net, optimizer_exp_lr, 20, train_loader, val_loader, scheduler_exp_lr)\n"
   ]
  },
  {
   "cell_type": "code",
   "execution_count": 32,
   "metadata": {},
   "outputs": [
    {
     "data": {
      "text/plain": [
       "0.7121815286624203"
      ]
     },
     "execution_count": 32,
     "metadata": {},
     "output_type": "execute_result"
    }
   ],
   "source": [
    "loss_, acc_ = test(net, test_loader)\n",
    "np.mean(acc_)"
   ]
  },
  {
   "cell_type": "markdown",
   "metadata": {
    "id": "5a_zMNNVO9Du",
    "pycharm": {
     "name": "#%% md\n"
    }
   },
   "source": [
    "Your answers here:\n",
    "\n",
    "Улучшились.\n",
    "\n",
    "StepLR - Уменьшает скорость обучения через равные интервалы, используя фиксированный множитель для уменьшения.\n",
    "\n",
    "ExponentialLR - Уменьшает скорость обучения по экспоненциальному закону на каждом шаге, умножая текущую скорость на некоторый коэффициент gamma каждую эпоху."
   ]
  },
  {
   "cell_type": "markdown",
   "metadata": {
    "id": "7xFXgl_3_E--",
    "pycharm": {
     "name": "#%% md\n"
    }
   },
   "source": [
    "## 4. Аугментации данных (2 балла)"
   ]
  },
  {
   "cell_type": "markdown",
   "metadata": {
    "id": "5G0Easo9O9Du",
    "pycharm": {
     "name": "#%% md\n"
    }
   },
   "source": [
    "Еще одной стандартной техникой, применяющейся в глубинном обучении, а особенно часто в компьютерном зрении, являются аугментации данных. Суть аугментаций состоит в том, что мы можем некоторым синтетическим образом видоизменять объекты обучающей выборки, тем самым расширяя ее, а также делая итоговую модель более устойчивой к таким изменениям.\n",
    "\n",
    "Простейшая аугментация, которую можно применить к картинкам — разворот картинки по горизонтальной оси. То есть при обучении модели с вероятностью $0.5$ мы будем разворачивать картинку из обучающей выборки."
   ]
  },
  {
   "cell_type": "code",
   "execution_count": 34,
   "metadata": {
    "id": "SzeFpgtfO9Du",
    "pycharm": {
     "name": "#%%\n"
    }
   },
   "outputs": [
    {
     "data": {
      "image/png": "[encoded data removed]",
      "text/plain": [
       "<Figure size 640x480 with 1 Axes>"
      ]
     },
     "metadata": {},
     "output_type": "display_data"
    },
    {
     "data": {
      "image/png": "[encoded data removed]",
      "text/plain": [
       "<Figure size 640x480 with 1 Axes>"
      ]
     },
     "metadata": {},
     "output_type": "display_data"
    }
   ],
   "source": [
    "dataiter = iter(train_loader)\n",
    "images, labels = next(dataiter)\n",
    "\n",
    "imshow(torchvision.utils.make_grid(images[:4]))\n",
    "\n",
    "imshow(torchvision.utils.make_grid(transforms.functional.hflip(images[:4])))"
   ]
  },
  {
   "cell_type": "markdown",
   "metadata": {
    "id": "BR4a-XJQO9Du",
    "pycharm": {
     "name": "#%% md\n"
    }
   },
   "source": [
    "Наиболее удобным способом работы с аугментациями в PyTorch является их задание в списке <code>transforms</code>, который затем передается в загрузчик данных. Обучим нашу сеть, применяя горизонтальные повороты:"
   ]
  },
  {
   "cell_type": "code",
   "execution_count": 35,
   "metadata": {
    "id": "na0ScBf-_AqX",
    "pycharm": {
     "name": "#%%\n"
    },
    "scrolled": true
   },
   "outputs": [
    {
     "name": "stdout",
     "output_type": "stream",
     "text": [
      "Files already downloaded and verified\n",
      "Files already downloaded and verified\n",
      "Epoch 0\n",
      " train loss: 1.4773784012855515, train acc: 0.4689213893967093\n",
      " val loss: 1.2933880595450706, val acc: 0.5495567376309253\n",
      "\n",
      "Epoch 1\n",
      " train loss: 1.1740304282857905, train acc: 0.5887225776965265\n",
      " val loss: 1.1115458906965052, val acc: 0.6157136523977239\n",
      "\n",
      "Epoch 2\n",
      " train loss: 1.0657224917760497, train acc: 0.6277381496629941\n",
      " val loss: 1.0773421363627658, val acc: 0.6298315603682335\n",
      "\n",
      "Epoch 3\n",
      " train loss: 1.0046434223760852, train acc: 0.6492230347349177\n",
      " val loss: 1.0421174749414972, val acc: 0.6455008865670955\n",
      "\n",
      "Epoch 4\n",
      " train loss: 0.969280466628031, train acc: 0.6633014494801788\n",
      " val loss: 0.9639608380642343, val acc: 0.664472517815042\n",
      "\n",
      "Epoch 5\n",
      " train loss: 0.9411184467388899, train acc: 0.6741969182242858\n",
      " val loss: 0.9660768448038304, val acc: 0.6681515957446809\n",
      "\n",
      "Epoch 6\n",
      " train loss: 0.9209102911966592, train acc: 0.6803669365058216\n",
      " val loss: 0.9747037329572312, val acc: 0.6637411348363187\n",
      "\n",
      "Epoch 7\n",
      " train loss: 0.9119887596074581, train acc: 0.6866756986002599\n",
      " val loss: 0.9002281625220117, val acc: 0.6879654255319149\n",
      "\n",
      "Epoch 8\n",
      " train loss: 0.8910167491850077, train acc: 0.694098491773309\n",
      " val loss: 0.9661764624270986, val acc: 0.6700132978723404\n",
      "\n",
      "Epoch 9\n",
      " train loss: 0.8753158513327185, train acc: 0.6974405850091407\n",
      " val loss: 0.9478345713716873, val acc: 0.6751551418862445\n",
      "\n",
      "Epoch 10\n",
      " train loss: 0.785608890069686, train acc: 0.728302918469884\n",
      " val loss: 0.8118689729812297, val acc: 0.7220744680851063\n",
      "\n",
      "Epoch 11\n",
      " train loss: 0.7638945703750555, train acc: 0.737260054844607\n",
      " val loss: 0.806370351923273, val acc: 0.7240248226104898\n",
      "\n",
      "Epoch 12\n",
      " train loss: 0.7614662444569729, train acc: 0.7379048054789277\n",
      " val loss: 0.811665219956256, val acc: 0.7240691489361702\n",
      "\n",
      "Epoch 13\n",
      " train loss: 0.7552139060588816, train acc: 0.7395697310158278\n",
      " val loss: 0.8078390505719693, val acc: 0.7233599289934686\n",
      "\n",
      "Epoch 14\n",
      " train loss: 0.7515676681912578, train acc: 0.7397982502114402\n",
      " val loss: 0.8056652979647859, val acc: 0.725531914893617\n",
      "\n",
      "Epoch 15\n",
      " train loss: 0.7410781252754671, train acc: 0.7461437385740403\n",
      " val loss: 0.7985764924516069, val acc: 0.7250221630360217\n",
      "\n",
      "Epoch 16\n",
      " train loss: 0.7353583685440817, train acc: 0.7483065095636483\n",
      " val loss: 0.7920118165777085, val acc: 0.7315159574468085\n",
      "\n",
      "Epoch 17\n",
      " train loss: 0.735753730130152, train acc: 0.7463763384540076\n",
      " val loss: 0.7941613010903622, val acc: 0.7270833332487877\n",
      "\n",
      "Epoch 18\n",
      " train loss: 0.7352171775627834, train acc: 0.7461886263198783\n",
      " val loss: 0.7930523800089004, val acc: 0.7309397162275112\n",
      "\n",
      "Epoch 19\n",
      " train loss: 0.7360645155584137, train acc: 0.7453235178586551\n",
      " val loss: 0.7943757934773222, val acc: 0.732313829787234\n",
      "\n"
     ]
    }
   ],
   "source": [
    "transform = transforms.Compose(\n",
    "        [transforms.RandomHorizontalFlip(),\n",
    "         transforms.ToTensor(),\n",
    "         transforms.Normalize((0.5, 0.5, 0.5), (0.5, 0.5, 0.5))]\n",
    ")\n",
    "\n",
    "train_loader, val_loader, test_loader = get_cifar10_data(batch_size=64, transform_train=transform)\n",
    "\n",
    "net = BasicBlockNet().to(device)\n",
    "optimizer = optim.SGD(net.parameters(), lr=0.1, momentum=0.9)\n",
    "scheduler = optim.lr_scheduler.MultiStepLR(optimizer, milestones=[10, 15], gamma=0.1)\n",
    "tr_loss_log, tr_acc_log, val_loss_log, val_acc_log = train(net, optimizer, 20, train_loader, val_loader, scheduler)"
   ]
  },
  {
   "cell_type": "markdown",
   "metadata": {
    "id": "v3ZIqDQqO9Dv",
    "pycharm": {
     "name": "#%% md\n"
    }
   },
   "source": [
    "Посчитайте точность на тестовой выборке:"
   ]
  },
  {
   "cell_type": "code",
   "execution_count": 36,
   "metadata": {
    "id": "nNJizMkM_Auh",
    "pycharm": {
     "name": "#%%\n"
    }
   },
   "outputs": [
    {
     "data": {
      "text/plain": [
       "0.7241242038216561"
      ]
     },
     "execution_count": 36,
     "metadata": {},
     "output_type": "execute_result"
    }
   ],
   "source": [
    "loss_, acc_ = test(net, test_loader)\n",
    "np.mean(acc_)"
   ]
  },
  {
   "cell_type": "markdown",
   "metadata": {
    "id": "KndehSCHO9Dv",
    "pycharm": {
     "name": "#%% md\n"
    }
   },
   "source": [
    "**Задание 4.1 (2 балла).** Изучите, какие еще способы аугментаций изображений представлены в <code>torchvision.transforms</code>. Выберите несколько из них, объясните, как они устроены, и обучите модель с ними (по отдельности и вместе). Удалось ли добиться улучшения качества на тестовой выборке?"
   ]
  },
  {
   "cell_type": "code",
   "execution_count": 37,
   "metadata": {
    "id": "Np4rgvdZ_QRF",
    "pycharm": {
     "name": "#%%\n"
    },
    "scrolled": true
   },
   "outputs": [
    {
     "name": "stdout",
     "output_type": "stream",
     "text": [
      "Files already downloaded and verified\n",
      "Files already downloaded and verified\n",
      "Epoch 0\n",
      " train loss: 1.5984861885607788, train acc: 0.4242866936614788\n",
      " val loss: 1.4200157921364966, val acc: 0.4951241134329045\n",
      "\n",
      "Epoch 1\n",
      " train loss: 1.383081032109653, train acc: 0.5091611713552388\n",
      " val loss: 1.354893022395195, val acc: 0.5108377659574468\n",
      "\n",
      "Epoch 2\n",
      " train loss: 1.29242751193003, train acc: 0.5396072734862403\n",
      " val loss: 1.2314868472992107, val acc: 0.5627437944107867\n",
      "\n",
      "Epoch 3\n",
      " train loss: 1.2257335828906657, train acc: 0.5645362692297704\n",
      " val loss: 1.2121696302231322, val acc: 0.5682845744680851\n",
      "\n",
      "Epoch 4\n",
      " train loss: 1.1859450657363348, train acc: 0.5834747975661506\n",
      " val loss: 1.146438563630936, val acc: 0.5975842199427016\n",
      "\n",
      "Epoch 5\n",
      " train loss: 1.1572941166827186, train acc: 0.5949170801931587\n",
      " val loss: 1.1198634794417848, val acc: 0.6033687942839684\n",
      "\n",
      "Epoch 6\n",
      " train loss: 1.1323393535352495, train acc: 0.601997094572789\n",
      " val loss: 1.145827933067971, val acc: 0.5991134752618505\n",
      "\n",
      "Epoch 7\n",
      " train loss: 1.1095623063430926, train acc: 0.6084241969493887\n",
      " val loss: 1.0985165022789163, val acc: 0.6152482269926274\n",
      "\n",
      "Epoch 8\n",
      " train loss: 1.0933618676291958, train acc: 0.6137209454009912\n",
      " val loss: 1.0973029116366773, val acc: 0.6171320922831272\n",
      "\n",
      "Epoch 9\n",
      " train loss: 1.07775761701943, train acc: 0.6228984394936501\n",
      " val loss: 1.0879906791321774, val acc: 0.6152925531914893\n",
      "\n",
      "Epoch 10\n",
      " train loss: 0.9899103910657127, train acc: 0.6510756725149137\n",
      " val loss: 0.9812903082117121, val acc: 0.6550531914893617\n",
      "\n",
      "Epoch 11\n",
      " train loss: 0.9747202531511212, train acc: 0.6603062157221207\n",
      " val loss: 0.9872604692235906, val acc: 0.6545877659574468\n",
      "\n",
      "Epoch 12\n",
      " train loss: 0.9679569047373435, train acc: 0.6593146056100263\n",
      " val loss: 0.9941555467057736, val acc: 0.655341311972192\n",
      "\n",
      "Epoch 13\n",
      " train loss: 0.9638736807014214, train acc: 0.6618813658763112\n",
      " val loss: 0.9699808678728469, val acc: 0.6623670212765957\n",
      "\n",
      "Epoch 14\n",
      " train loss: 0.9602244624925924, train acc: 0.6618528009768596\n",
      " val loss: 0.9667943672930941, val acc: 0.6671320922831272\n",
      "\n",
      "Epoch 15\n",
      " train loss: 0.946684010068067, train acc: 0.6675535388141053\n",
      " val loss: 0.9603518998369257, val acc: 0.6698803191489362\n",
      "\n",
      "Epoch 16\n",
      " train loss: 0.9470779896872135, train acc: 0.6655825607519481\n",
      " val loss: 0.9518838930637279, val acc: 0.6690381204828303\n",
      "\n",
      "Epoch 17\n",
      " train loss: 0.9457904540642524, train acc: 0.6690756398537477\n",
      " val loss: 0.9548547782796495, val acc: 0.6687721630360218\n",
      "\n",
      "Epoch 18\n",
      " train loss: 0.9409990434890692, train acc: 0.6713812353406136\n",
      " val loss: 0.9521997743464531, val acc: 0.6647384752618506\n",
      "\n",
      "Epoch 19\n",
      " train loss: 0.948623677712254, train acc: 0.6683288717836523\n",
      " val loss: 0.9529357867037996, val acc: 0.6666223404255319\n",
      "\n"
     ]
    }
   ],
   "source": [
    "transform_rot_flip = transforms.Compose(\n",
    "    [transforms.RandomHorizontalFlip(),\n",
    "     transforms.RandomRotation(30),\n",
    "     transforms.ToTensor(),\n",
    "     transforms.Normalize((0.5, 0.5, 0.5), (0.5, 0.5, 0.5))]\n",
    ")\n",
    "\n",
    "train_loader_rot_flip, val_loader_rot_flip, test_loader_rot_flip = get_cifar10_data(batch_size=64, transform_train=transform_rot_flip)\n",
    "\n",
    "net = BasicBlockNet().to(device)\n",
    "optimizer = optim.SGD(net.parameters(), lr=0.1, momentum=0.9)\n",
    "scheduler = optim.lr_scheduler.MultiStepLR(optimizer, milestones=[10, 15], gamma=0.1)\n",
    "tr_loss_log, tr_acc_log, val_loss_log, val_acc_log = train(net, optimizer, 20, train_loader_rot_flip, val_loader_rot_flip, scheduler)"
   ]
  },
  {
   "cell_type": "code",
   "execution_count": 38,
   "metadata": {},
   "outputs": [
    {
     "data": {
      "text/plain": [
       "0.6957603503184714"
      ]
     },
     "execution_count": 38,
     "metadata": {},
     "output_type": "execute_result"
    }
   ],
   "source": [
    "loss_, acc_ = test(net, test_loader)\n",
    "np.mean(acc_)"
   ]
  },
  {
   "cell_type": "code",
   "execution_count": 39,
   "metadata": {
    "scrolled": true
   },
   "outputs": [
    {
     "name": "stdout",
     "output_type": "stream",
     "text": [
      "Files already downloaded and verified\n",
      "Files already downloaded and verified\n",
      "Epoch 0\n",
      " train loss: 1.763904519447243, train acc: 0.3576651867172618\n",
      " val loss: 1.6046598135156835, val acc: 0.4160904255319149\n",
      "\n",
      "Epoch 1\n",
      " train loss: 1.4986570474216663, train acc: 0.4638694828781393\n",
      " val loss: 1.4371497844127898, val acc: 0.4900265957446808\n",
      "\n",
      "Epoch 2\n",
      " train loss: 1.3797380152742431, train acc: 0.5119646121858461\n",
      " val loss: 1.347200097936265, val acc: 0.5282801417594261\n",
      "\n",
      "Epoch 3\n",
      " train loss: 1.3204744260969283, train acc: 0.5361223557531507\n",
      " val loss: 1.4238830434515122, val acc: 0.4988696808510638\n",
      "\n",
      "Epoch 4\n",
      " train loss: 1.2752417967785865, train acc: 0.5483032449725777\n",
      " val loss: 1.2588011416983098, val acc: 0.5547872340425531\n",
      "\n",
      "Epoch 5\n",
      " train loss: 1.24460910661129, train acc: 0.567029576959732\n",
      " val loss: 1.1924345166125196, val acc: 0.5798758865670955\n",
      "\n",
      "Epoch 6\n",
      " train loss: 1.2027089492276557, train acc: 0.5797327957379971\n",
      " val loss: 1.2246545408634428, val acc: 0.5669104609083622\n",
      "\n",
      "Epoch 7\n",
      " train loss: 1.191672797176912, train acc: 0.5814507703894453\n",
      " val loss: 1.2766430674715246, val acc: 0.553501773134191\n",
      "\n",
      "Epoch 8\n",
      " train loss: 1.177520566056372, train acc: 0.5876248694643024\n",
      " val loss: 1.2301724045834643, val acc: 0.5760195034615537\n",
      "\n",
      "Epoch 9\n",
      " train loss: 1.1572876053928676, train acc: 0.5931174915277108\n",
      " val loss: 1.1595435637108824, val acc: 0.5869459220703612\n",
      "\n",
      "Epoch 10\n",
      " train loss: 1.0555129478356955, train acc: 0.6342795116374\n",
      " val loss: 1.0515564114489453, val acc: 0.6327792553191489\n",
      "\n",
      "Epoch 11\n",
      " train loss: 1.0397848552280196, train acc: 0.6380704818957467\n",
      " val loss: 1.044771887140071, val acc: 0.6351285460147452\n",
      "\n",
      "Epoch 12\n",
      " train loss: 1.0304782159585621, train acc: 0.6427918516739631\n",
      " val loss: 1.0451552632007193, val acc: 0.6320478723404256\n",
      "\n",
      "Epoch 13\n",
      " train loss: 1.023922922951212, train acc: 0.6440364650878\n",
      " val loss: 1.0350003001537729, val acc: 0.6409131204828303\n",
      "\n",
      "Epoch 14\n",
      " train loss: 1.0170188224729715, train acc: 0.6471704426587609\n",
      " val loss: 1.029913337179955, val acc: 0.6414671986661059\n",
      "\n",
      "Epoch 15\n",
      " train loss: 1.0054327310548186, train acc: 0.6500146905508513\n",
      " val loss: 1.0147160623935942, val acc: 0.6508200353764473\n",
      "\n",
      "Epoch 16\n",
      " train loss: 1.0030140573843305, train acc: 0.6492760838494658\n",
      " val loss: 1.026092812862802, val acc: 0.6429078014607125\n",
      "\n",
      "Epoch 17\n",
      " train loss: 1.0099719063237556, train acc: 0.6508226691042047\n",
      " val loss: 1.023289762405639, val acc: 0.6442375885679367\n",
      "\n",
      "Epoch 18\n",
      " train loss: 1.001043749029937, train acc: 0.6518673283308472\n",
      " val loss: 1.0164034762281053, val acc: 0.6455230497299357\n",
      "\n",
      "Epoch 19\n",
      " train loss: 0.99649988929358, train acc: 0.6542422956696812\n",
      " val loss: 1.019656765460968, val acc: 0.6448581561129144\n",
      "\n"
     ]
    }
   ],
   "source": [
    "transform_crop_jitter = transforms.Compose(\n",
    "    [transforms.RandomCrop(32, padding=4),\n",
    "     transforms.ColorJitter(brightness=0.5, contrast=0.5),\n",
    "     transforms.ToTensor(),\n",
    "     transforms.Normalize((0.5, 0.5, 0.5), (0.5, 0.5, 0.5))]\n",
    ")\n",
    "\n",
    "train_loader_crop_jitter, val_loader_crop_jitter, test_loader_crop_jitter = get_cifar10_data(batch_size=64, transform_train=transform_crop_jitter)\n",
    "\n",
    "net = BasicBlockNet().to(device)\n",
    "optimizer = optim.SGD(net.parameters(), lr=0.1, momentum=0.9)\n",
    "scheduler = optim.lr_scheduler.MultiStepLR(optimizer, milestones=[10, 15], gamma=0.1)\n",
    "tr_loss_log, tr_acc_log, val_loss_log, val_acc_log = train(net, optimizer, 20, train_loader_crop_jitter, val_loader_crop_jitter, scheduler)"
   ]
  },
  {
   "cell_type": "code",
   "execution_count": 40,
   "metadata": {},
   "outputs": [
    {
     "data": {
      "text/plain": [
       "0.683718152866242"
      ]
     },
     "execution_count": 40,
     "metadata": {},
     "output_type": "execute_result"
    }
   ],
   "source": [
    "loss_, acc_ = test(net, test_loader)\n",
    "np.mean(acc_)"
   ]
  },
  {
   "cell_type": "markdown",
   "metadata": {
    "id": "4K-MptLiO9Dv",
    "pycharm": {
     "name": "#%% md\n"
    }
   },
   "source": [
    "Your answers here:\n",
    "\n",
    "RandomRotation - Случайно вращает изображение на угол в пределах указанного диапазона (в градусах).\n",
    "\n",
    "RandomCrop - Случайно обрезает изображение до указанного размера."
   ]
  },
  {
   "cell_type": "markdown",
   "metadata": {
    "id": "HCENjLw5O9Dv",
    "pycharm": {
     "name": "#%% md\n"
    }
   },
   "source": [
    "## Бонус. Логирование в wandb (2 балла)"
   ]
  },
  {
   "cell_type": "markdown",
   "metadata": {
    "id": "xOyzc1mnO9Dv",
    "pycharm": {
     "name": "#%% md\n"
    }
   },
   "source": [
    "На практике специалиста по глубинному обучению часто встречаются ситуации, когда нейросеть учится на каком-то удаленном сервере. И обычно вам хочется отслеживать прогресс обучения, особенно когда время обучения модели исчисляется днями или неделями. Для таких целей существует несколько инструментов. Вероятно, самый популярный из них — [wandb](https://wandb.ai/site).\n",
    "\n",
    "Ваша задача состоит в том, чтобы разобраться как им пользоваться, и повторить задания 2.1 и 2.2 с его использованием. Обучение вы можете запускать в этом же ноутбуке, но теперь вам необходимо через wandb логировать значения функции потерь и точности на обучающей выборке и на валидационной. Результатом работы должны быть ваш код и публичная ссылка на страничку с графиками, идентичными графикам в задании 2.2."
   ]
  },
  {
   "cell_type": "code",
   "execution_count": 1,
   "metadata": {},
   "outputs": [],
   "source": [
    "import wandb"
   ]
  },
  {
   "cell_type": "code",
   "execution_count": 27,
   "metadata": {},
   "outputs": [
    {
     "data": {
      "text/plain": [
       "True"
      ]
     },
     "execution_count": 27,
     "metadata": {},
     "output_type": "execute_result"
    }
   ],
   "source": [
    "wandb.login()"
   ]
  },
  {
   "cell_type": "code",
   "execution_count": 28,
   "metadata": {},
   "outputs": [],
   "source": [
    "def test(model, loader):\n",
    "    loss_log = []\n",
    "    acc_log = []\n",
    "    model.eval()\n",
    "    \n",
    "    for data, target in loader:\n",
    "        \n",
    "        data = data.to(device)\n",
    "        target = target.to(device)\n",
    "        \n",
    "        logits = model(data)\n",
    "        loss = nn.functional.cross_entropy(logits, target)\n",
    "        \n",
    "        loss_log.append(loss.item())\n",
    "        \n",
    "        # <your code here>\n",
    "        acc = (logits.argmax(dim=1) == target).sum() / len(target)\n",
    "        \n",
    "        acc_log.append(acc.item()) \n",
    "        \n",
    "    wandb.log({\"test_acc\": np.mean(acc_log), \"test_loss\": np.mean(loss_log)})\n",
    "\n",
    "\n",
    "def train_epoch(model, optimizer, train_loader):\n",
    "    loss_log = []\n",
    "    acc_log = []\n",
    "    model.train()\n",
    "    \n",
    "    for data, target in train_loader:\n",
    "        \n",
    "        # <your code here>\n",
    "        data = data.to(device)\n",
    "        target = target.to(device)\n",
    "        \n",
    "        optimizer.zero_grad()\n",
    "        logits = model(data)\n",
    "        loss = nn.functional.cross_entropy(logits, target)\n",
    "        loss.backward()\n",
    "        optimizer.step()\n",
    "        \n",
    "        loss_log.append(loss.item())\n",
    "        \n",
    "        # <your code here>\n",
    "        acc = (logits.argmax(dim=1) == target).sum() / len(target)\n",
    "        \n",
    "        acc_log.append(acc.item())\n",
    "        \n",
    "        wandb.log({\"train_acc\": acc.item(), \"train_loss\": loss.item()})\n",
    "\n",
    "\n",
    "def train(model, optimizer, n_epochs, train_loader, val_loader, scheduler=None):\n",
    "    train_loss_log, train_acc_log, val_loss_log, val_acc_log = [], [], [], []\n",
    "    wandb.init(\n",
    "        project='DL_HW2',\n",
    "        entity='tanpetor2004-hse',\n",
    "        name='Bonus',\n",
    "        settings=wandb.Settings(init_timeout=240)\n",
    "    )\n",
    "\n",
    "    for epoch in range(n_epochs):\n",
    "        train_epoch(model, optimizer, train_loader)\n",
    "        test(model, val_loader)\n",
    "        print(f\"Epoch {epoch}\")\n",
    "        \n",
    "        if scheduler is not None:\n",
    "            scheduler.step()\n",
    "\n",
    "    wandb.finish()\n",
    "    "
   ]
  },
  {
   "cell_type": "code",
   "execution_count": 29,
   "metadata": {},
   "outputs": [
    {
     "name": "stdout",
     "output_type": "stream",
     "text": [
      "Files already downloaded and verified\n",
      "Files already downloaded and verified\n"
     ]
    }
   ],
   "source": [
    "transform = transforms.Compose(\n",
    "        [transforms.RandomHorizontalFlip(),\n",
    "         transforms.ToTensor(),\n",
    "         transforms.Normalize((0.5, 0.5, 0.5), (0.5, 0.5, 0.5))]\n",
    ")\n",
    "\n",
    "train_loader, val_loader, test_loader = get_cifar10_data(batch_size=64, transform_train=transform)"
   ]
  },
  {
   "cell_type": "code",
   "execution_count": 30,
   "metadata": {
    "scrolled": false
   },
   "outputs": [
    {
     "data": {
      "text/html": [
       "Tracking run with wandb version 0.18.7"
      ],
      "text/plain": [
       "<IPython.core.display.HTML object>"
      ]
     },
     "metadata": {},
     "output_type": "display_data"
    },
    {
     "data": {
      "text/html": [
       "Run data is saved locally in <code>/Users/tanpeter/Desktop/DL/HW2/wandb/run-20241120_173002-is3fd1hv</code>"
      ],
      "text/plain": [
       "<IPython.core.display.HTML object>"
      ]
     },
     "metadata": {},
     "output_type": "display_data"
    },
    {
     "data": {
      "text/html": [
       "Syncing run <strong><a href='https://wandb.ai/tanpetor2004-hse/DL_HW2/runs/is3fd1hv' target=\"_blank\">Bonus</a></strong> to <a href='https://wandb.ai/tanpetor2004-hse/DL_HW2' target=\"_blank\">Weights & Biases</a> (<a href='https://wandb.me/developer-guide' target=\"_blank\">docs</a>)<br/>"
      ],
      "text/plain": [
       "<IPython.core.display.HTML object>"
      ]
     },
     "metadata": {},
     "output_type": "display_data"
    },
    {
     "data": {
      "text/html": [
       " View project at <a href='https://wandb.ai/tanpetor2004-hse/DL_HW2' target=\"_blank\">https://wandb.ai/tanpetor2004-hse/DL_HW2</a>"
      ],
      "text/plain": [
       "<IPython.core.display.HTML object>"
      ]
     },
     "metadata": {},
     "output_type": "display_data"
    },
    {
     "data": {
      "text/html": [
       " View run at <a href='https://wandb.ai/tanpetor2004-hse/DL_HW2/runs/is3fd1hv' target=\"_blank\">https://wandb.ai/tanpetor2004-hse/DL_HW2/runs/is3fd1hv</a>"
      ],
      "text/plain": [
       "<IPython.core.display.HTML object>"
      ]
     },
     "metadata": {},
     "output_type": "display_data"
    },
    {
     "name": "stdout",
     "output_type": "stream",
     "text": [
      "Epoch 0\n",
      "Epoch 1\n",
      "Epoch 2\n",
      "Epoch 3\n",
      "Epoch 4\n",
      "Epoch 5\n",
      "Epoch 6\n",
      "Epoch 7\n",
      "Epoch 8\n",
      "Epoch 9\n",
      "Epoch 10\n",
      "Epoch 11\n",
      "Epoch 12\n",
      "Epoch 13\n",
      "Epoch 14\n",
      "Epoch 15\n",
      "Epoch 16\n",
      "Epoch 17\n",
      "Epoch 18\n",
      "Epoch 19\n"
     ]
    },
    {
     "data": {
      "text/html": [
       "\n",
       "    <style>\n",
       "        .wandb-row {\n",
       "            display: flex;\n",
       "            flex-direction: row;\n",
       "            flex-wrap: wrap;\n",
       "            justify-content: flex-start;\n",
       "            width: 100%;\n",
       "        }\n",
       "        .wandb-col {\n",
       "            display: flex;\n",
       "            flex-direction: column;\n",
       "            flex-basis: 100%;\n",
       "            flex: 1;\n",
       "            padding: 10px;\n",
       "        }\n",
       "    </style>\n",
       "<div class=\"wandb-row\"><div class=\"wandb-col\"><h3>Run history:</h3><br/><table class=\"wandb\"><tr><td>test_acc</td><td>▁▄▄▅▆▆▆▇▆▆▇▇▇▇▇▇████</td></tr><tr><td>test_loss</td><td>█▅▅▄▃▃▃▂▃▃▁▂▁▂▂▂▁▂▁▁</td></tr><tr><td>train_acc</td><td>▁▁▂▁▄▆▆▆▆▅▄▅▆▄▅▅▆▇█▅▇▇▇▅▅▇▆▇▅▇▅▆▆▇▅▇▇▆▆▅</td></tr><tr><td>train_loss</td><td>▇▆▆▇▆▆▅▅▅▄▅▄▄▄▆▃▄▄▂█▅▆▅█▆▄▅▃▂▅▃▁▂▁▁▂▃▂▄▂</td></tr></table><br/></div><div class=\"wandb-col\"><h3>Run summary:</h3><br/><table class=\"wandb\"><tr><td>test_acc</td><td>0.70915</td></tr><tr><td>test_loss</td><td>0.84383</td></tr><tr><td>train_acc</td><td>0.85714</td></tr><tr><td>train_loss</td><td>0.51086</td></tr></table><br/></div></div>"
      ],
      "text/plain": [
       "<IPython.core.display.HTML object>"
      ]
     },
     "metadata": {},
     "output_type": "display_data"
    },
    {
     "data": {
      "text/html": [
       " View run <strong style=\"color:#cdcd00\">Bonus</strong> at: <a href='https://wandb.ai/tanpetor2004-hse/DL_HW2/runs/is3fd1hv' target=\"_blank\">https://wandb.ai/tanpetor2004-hse/DL_HW2/runs/is3fd1hv</a><br/> View project at: <a href='https://wandb.ai/tanpetor2004-hse/DL_HW2' target=\"_blank\">https://wandb.ai/tanpetor2004-hse/DL_HW2</a><br/>Synced 5 W&B file(s), 0 media file(s), 0 artifact file(s) and 0 other file(s)"
      ],
      "text/plain": [
       "<IPython.core.display.HTML object>"
      ]
     },
     "metadata": {},
     "output_type": "display_data"
    },
    {
     "data": {
      "text/html": [
       "Find logs at: <code>./wandb/run-20241120_173002-is3fd1hv/logs</code>"
      ],
      "text/plain": [
       "<IPython.core.display.HTML object>"
      ]
     },
     "metadata": {},
     "output_type": "display_data"
    }
   ],
   "source": [
    "net = BasicBlockNet().to(device)\n",
    "optimizer = optim.SGD(net.parameters(), lr=0.1, momentum=0.9)\n",
    "train(net, optimizer, 20, train_loader, val_loader)"
   ]
  },
  {
   "cell_type": "code",
   "execution_count": 32,
   "metadata": {},
   "outputs": [],
   "source": [
    "def test(model, loader):\n",
    "    loss_log = []\n",
    "    acc_log = []\n",
    "    model.eval()\n",
    "    \n",
    "    for data, target in loader:\n",
    "        \n",
    "        data = data.to(device)\n",
    "        target = target.to(device)\n",
    "        \n",
    "        logits = model(data)\n",
    "        loss = nn.functional.cross_entropy(logits, target)\n",
    "        \n",
    "        loss_log.append(loss.item())\n",
    "        \n",
    "        # <your code here>\n",
    "        acc = (logits.argmax(dim=1) == target).sum() / len(target)\n",
    "        \n",
    "        acc_log.append(acc.item()) \n",
    "        \n",
    "    return np.mean(loss_log), np.mean(acc_log)"
   ]
  },
  {
   "cell_type": "code",
   "execution_count": 33,
   "metadata": {},
   "outputs": [
    {
     "data": {
      "text/plain": [
       "0.7064092356687898"
      ]
     },
     "execution_count": 33,
     "metadata": {},
     "output_type": "execute_result"
    }
   ],
   "source": [
    "loss_, acc_ = test(net, test_loader)\n",
    "np.mean(acc_)"
   ]
  }
 ],
 "metadata": {
  "accelerator": "GPU",
  "colab": {
   "collapsed_sections": [],
   "provenance": []
  },
  "kernelspec": {
   "display_name": "Python 3 (ipykernel)",
   "language": "python",
   "name": "python3"
  },
  "language_info": {
   "codemirror_mode": {
    "name": "ipython",
    "version": 3
   },
   "file_extension": ".py",
   "mimetype": "text/x-python",
   "name": "python",
   "nbconvert_exporter": "python",
   "pygments_lexer": "ipython3",
   "version": "3.12.3"
  },
  "widgets": {
   "application/vnd.jupyter.widget-state+json": {
    "0fee9f5b7bdb4129a71ef0cfe9d3b1fa": {
     "model_module": "@jupyter-widgets/controls",
     "model_module_version": "1.5.0",
     "model_name": "ProgressStyleModel",
     "state": {
      "_model_module": "@jupyter-widgets/controls",
      "_model_module_version": "1.5.0",
      "_model_name": "ProgressStyleModel",
      "_view_count": null,
      "_view_module": "@jupyter-widgets/base",
      "_view_module_version": "1.2.0",
      "_view_name": "StyleView",
      "bar_color": null,
      "description_width": ""
     }
    },
    "17b2be81159e41f1a5c6bb966516572e": {
     "model_module": "@jupyter-widgets/base",
     "model_module_version": "1.2.0",
     "model_name": "LayoutModel",
     "state": {
      "_model_module": "@jupyter-widgets/base",
      "_model_module_version": "1.2.0",
      "_model_name": "LayoutModel",
      "_view_count": null,
      "_view_module": "@jupyter-widgets/base",
      "_view_module_version": "1.2.0",
      "_view_name": "LayoutView",
      "align_content": null,
      "align_items": null,
      "align_self": null,
      "border": null,
      "bottom": null,
      "display": null,
      "flex": null,
      "flex_flow": null,
      "grid_area": null,
      "grid_auto_columns": null,
      "grid_auto_flow": null,
      "grid_auto_rows": null,
      "grid_column": null,
      "grid_gap": null,
      "grid_row": null,
      "grid_template_areas": null,
      "grid_template_columns": null,
      "grid_template_rows": null,
      "height": null,
      "justify_content": null,
      "justify_items": null,
      "left": null,
      "margin": null,
      "max_height": null,
      "max_width": null,
      "min_height": null,
      "min_width": null,
      "object_fit": null,
      "object_position": null,
      "order": null,
      "overflow": null,
      "overflow_x": null,
      "overflow_y": null,
      "padding": null,
      "right": null,
      "top": null,
      "visibility": null,
      "width": null
     }
    },
    "18b20091dbf64b129824a8fb3266e3c0": {
     "model_module": "@jupyter-widgets/controls",
     "model_module_version": "1.5.0",
     "model_name": "DescriptionStyleModel",
     "state": {
      "_model_module": "@jupyter-widgets/controls",
      "_model_module_version": "1.5.0",
      "_model_name": "DescriptionStyleModel",
      "_view_count": null,
      "_view_module": "@jupyter-widgets/base",
      "_view_module_version": "1.2.0",
      "_view_name": "StyleView",
      "description_width": ""
     }
    },
    "22bb21a6c57a413fb7374efe31349e6e": {
     "model_module": "@jupyter-widgets/base",
     "model_module_version": "1.2.0",
     "model_name": "LayoutModel",
     "state": {
      "_model_module": "@jupyter-widgets/base",
      "_model_module_version": "1.2.0",
      "_model_name": "LayoutModel",
      "_view_count": null,
      "_view_module": "@jupyter-widgets/base",
      "_view_module_version": "1.2.0",
      "_view_name": "LayoutView",
      "align_content": null,
      "align_items": null,
      "align_self": null,
      "border": null,
      "bottom": null,
      "display": null,
      "flex": null,
      "flex_flow": null,
      "grid_area": null,
      "grid_auto_columns": null,
      "grid_auto_flow": null,
      "grid_auto_rows": null,
      "grid_column": null,
      "grid_gap": null,
      "grid_row": null,
      "grid_template_areas": null,
      "grid_template_columns": null,
      "grid_template_rows": null,
      "height": null,
      "justify_content": null,
      "justify_items": null,
      "left": null,
      "margin": null,
      "max_height": null,
      "max_width": null,
      "min_height": null,
      "min_width": null,
      "object_fit": null,
      "object_position": null,
      "order": null,
      "overflow": null,
      "overflow_x": null,
      "overflow_y": null,
      "padding": null,
      "right": null,
      "top": null,
      "visibility": null,
      "width": null
     }
    },
    "7d238166caf64537ad9aa2040dcdc1ec": {
     "model_module": "@jupyter-widgets/controls",
     "model_module_version": "1.5.0",
     "model_name": "DescriptionStyleModel",
     "state": {
      "_model_module": "@jupyter-widgets/controls",
      "_model_module_version": "1.5.0",
      "_model_name": "DescriptionStyleModel",
      "_view_count": null,
      "_view_module": "@jupyter-widgets/base",
      "_view_module_version": "1.2.0",
      "_view_name": "StyleView",
      "description_width": ""
     }
    },
    "95c5696493db48738dbdc9940acec1d8": {
     "model_module": "@jupyter-widgets/controls",
     "model_module_version": "1.5.0",
     "model_name": "HTMLModel",
     "state": {
      "_dom_classes": [],
      "_model_module": "@jupyter-widgets/controls",
      "_model_module_version": "1.5.0",
      "_model_name": "HTMLModel",
      "_view_count": null,
      "_view_module": "@jupyter-widgets/controls",
      "_view_module_version": "1.5.0",
      "_view_name": "HTMLView",
      "description": "",
      "description_tooltip": null,
      "layout": "IPY_MODEL_22bb21a6c57a413fb7374efe31349e6e",
      "placeholder": "​",
      "style": "IPY_MODEL_18b20091dbf64b129824a8fb3266e3c0",
      "value": "100%"
     }
    },
    "9bad0d6a00c14229b0d776a2cfe15090": {
     "model_module": "@jupyter-widgets/base",
     "model_module_version": "1.2.0",
     "model_name": "LayoutModel",
     "state": {
      "_model_module": "@jupyter-widgets/base",
      "_model_module_version": "1.2.0",
      "_model_name": "LayoutModel",
      "_view_count": null,
      "_view_module": "@jupyter-widgets/base",
      "_view_module_version": "1.2.0",
      "_view_name": "LayoutView",
      "align_content": null,
      "align_items": null,
      "align_self": null,
      "border": null,
      "bottom": null,
      "display": null,
      "flex": null,
      "flex_flow": null,
      "grid_area": null,
      "grid_auto_columns": null,
      "grid_auto_flow": null,
      "grid_auto_rows": null,
      "grid_column": null,
      "grid_gap": null,
      "grid_row": null,
      "grid_template_areas": null,
      "grid_template_columns": null,
      "grid_template_rows": null,
      "height": null,
      "justify_content": null,
      "justify_items": null,
      "left": null,
      "margin": null,
      "max_height": null,
      "max_width": null,
      "min_height": null,
      "min_width": null,
      "object_fit": null,
      "object_position": null,
      "order": null,
      "overflow": null,
      "overflow_x": null,
      "overflow_y": null,
      "padding": null,
      "right": null,
      "top": null,
      "visibility": null,
      "width": null
     }
    },
    "aa9da821ba0c42b5b051355e50e691f0": {
     "model_module": "@jupyter-widgets/controls",
     "model_module_version": "1.5.0",
     "model_name": "HBoxModel",
     "state": {
      "_dom_classes": [],
      "_model_module": "@jupyter-widgets/controls",
      "_model_module_version": "1.5.0",
      "_model_name": "HBoxModel",
      "_view_count": null,
      "_view_module": "@jupyter-widgets/controls",
      "_view_module_version": "1.5.0",
      "_view_name": "HBoxView",
      "box_style": "",
      "children": [
       "IPY_MODEL_95c5696493db48738dbdc9940acec1d8",
       "IPY_MODEL_fe515a1f743f49d0b251b43919d52a8e",
       "IPY_MODEL_f4f339c969fd4e21bc683ecb2567897b"
      ],
      "layout": "IPY_MODEL_17b2be81159e41f1a5c6bb966516572e"
     }
    },
    "cd991379661b4b4ab405bf66f75c6834": {
     "model_module": "@jupyter-widgets/base",
     "model_module_version": "1.2.0",
     "model_name": "LayoutModel",
     "state": {
      "_model_module": "@jupyter-widgets/base",
      "_model_module_version": "1.2.0",
      "_model_name": "LayoutModel",
      "_view_count": null,
      "_view_module": "@jupyter-widgets/base",
      "_view_module_version": "1.2.0",
      "_view_name": "LayoutView",
      "align_content": null,
      "align_items": null,
      "align_self": null,
      "border": null,
      "bottom": null,
      "display": null,
      "flex": null,
      "flex_flow": null,
      "grid_area": null,
      "grid_auto_columns": null,
      "grid_auto_flow": null,
      "grid_auto_rows": null,
      "grid_column": null,
      "grid_gap": null,
      "grid_row": null,
      "grid_template_areas": null,
      "grid_template_columns": null,
      "grid_template_rows": null,
      "height": null,
      "justify_content": null,
      "justify_items": null,
      "left": null,
      "margin": null,
      "max_height": null,
      "max_width": null,
      "min_height": null,
      "min_width": null,
      "object_fit": null,
      "object_position": null,
      "order": null,
      "overflow": null,
      "overflow_x": null,
      "overflow_y": null,
      "padding": null,
      "right": null,
      "top": null,
      "visibility": null,
      "width": null
     }
    },
    "f4f339c969fd4e21bc683ecb2567897b": {
     "model_module": "@jupyter-widgets/controls",
     "model_module_version": "1.5.0",
     "model_name": "HTMLModel",
     "state": {
      "_dom_classes": [],
      "_model_module": "@jupyter-widgets/controls",
      "_model_module_version": "1.5.0",
      "_model_name": "HTMLModel",
      "_view_count": null,
      "_view_module": "@jupyter-widgets/controls",
      "_view_module_version": "1.5.0",
      "_view_name": "HTMLView",
      "description": "",
      "description_tooltip": null,
      "layout": "IPY_MODEL_cd991379661b4b4ab405bf66f75c6834",
      "placeholder": "​",
      "style": "IPY_MODEL_7d238166caf64537ad9aa2040dcdc1ec",
      "value": " 170498071/170498071 [00:13&lt;00:00, 13339884.37it/s]"
     }
    },
    "fe515a1f743f49d0b251b43919d52a8e": {
     "model_module": "@jupyter-widgets/controls",
     "model_module_version": "1.5.0",
     "model_name": "FloatProgressModel",
     "state": {
      "_dom_classes": [],
      "_model_module": "@jupyter-widgets/controls",
      "_model_module_version": "1.5.0",
      "_model_name": "FloatProgressModel",
      "_view_count": null,
      "_view_module": "@jupyter-widgets/controls",
      "_view_module_version": "1.5.0",
      "_view_name": "ProgressView",
      "bar_style": "success",
      "description": "",
      "description_tooltip": null,
      "layout": "IPY_MODEL_9bad0d6a00c14229b0d776a2cfe15090",
      "max": 170498071,
      "min": 0,
      "orientation": "horizontal",
      "style": "IPY_MODEL_0fee9f5b7bdb4129a71ef0cfe9d3b1fa",
      "value": 170498071
     }
    }
   }
  }
 },
 "nbformat": 4,
 "nbformat_minor": 1
}
